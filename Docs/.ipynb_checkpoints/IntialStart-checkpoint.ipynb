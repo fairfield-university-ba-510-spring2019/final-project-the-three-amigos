{
 "cells": [
  {
   "cell_type": "code",
   "execution_count": 2,
   "metadata": {},
   "outputs": [],
   "source": [
    "# Loading the 'sql' extension for use throughout the notebook\n",
    "%load_ext sql"
   ]
  },
  {
   "cell_type": "code",
   "execution_count": 60,
   "metadata": {},
   "outputs": [
    {
     "data": {
      "text/plain": [
       "'Connected: @CourseData.db'"
      ]
     },
     "execution_count": 60,
     "metadata": {},
     "output_type": "execute_result"
    }
   ],
   "source": [
    "# Connecting to the database\n",
    "%%sql\n",
    "\n",
    "sqlite:///CourseData.db"
   ]
  },
  {
   "cell_type": "code",
   "execution_count": 66,
   "metadata": {},
   "outputs": [
    {
     "name": "stdout",
     "output_type": "stream",
     "text": [
      " * sqlite:///CourseData.db\n",
      "Done.\n"
     ]
    },
    {
     "data": {
      "text/html": [
       "<table>\n",
       "    <tr>\n",
       "        <th>cid</th>\n",
       "        <th>name</th>\n",
       "        <th>type</th>\n",
       "        <th>notnull</th>\n",
       "        <th>dflt_value</th>\n",
       "        <th>pk</th>\n",
       "    </tr>\n",
       "    <tr>\n",
       "        <td>0</td>\n",
       "        <td>program_code</td>\n",
       "        <td>TEXT</td>\n",
       "        <td>0</td>\n",
       "        <td>None</td>\n",
       "        <td>0</td>\n",
       "    </tr>\n",
       "    <tr>\n",
       "        <td>1</td>\n",
       "        <td>program_name</td>\n",
       "        <td>TEXT</td>\n",
       "        <td>0</td>\n",
       "        <td>None</td>\n",
       "        <td>0</td>\n",
       "    </tr>\n",
       "    <tr>\n",
       "        <td>2</td>\n",
       "        <td>catalog_id</td>\n",
       "        <td>TEXT</td>\n",
       "        <td>0</td>\n",
       "        <td>None</td>\n",
       "        <td>0</td>\n",
       "    </tr>\n",
       "    <tr>\n",
       "        <td>3</td>\n",
       "        <td>course_title</td>\n",
       "        <td>TEXT</td>\n",
       "        <td>0</td>\n",
       "        <td>None</td>\n",
       "        <td>0</td>\n",
       "    </tr>\n",
       "    <tr>\n",
       "        <td>4</td>\n",
       "        <td>credits</td>\n",
       "        <td>TEXT</td>\n",
       "        <td>0</td>\n",
       "        <td>None</td>\n",
       "        <td>0</td>\n",
       "    </tr>\n",
       "    <tr>\n",
       "        <td>5</td>\n",
       "        <td>prereqs</td>\n",
       "        <td>TEXT</td>\n",
       "        <td>0</td>\n",
       "        <td>None</td>\n",
       "        <td>0</td>\n",
       "    </tr>\n",
       "    <tr>\n",
       "        <td>6</td>\n",
       "        <td>coreqs</td>\n",
       "        <td>TEXT</td>\n",
       "        <td>0</td>\n",
       "        <td>None</td>\n",
       "        <td>0</td>\n",
       "    </tr>\n",
       "    <tr>\n",
       "        <td>7</td>\n",
       "        <td>fees</td>\n",
       "        <td>TEXT</td>\n",
       "        <td>0</td>\n",
       "        <td>None</td>\n",
       "        <td>0</td>\n",
       "    </tr>\n",
       "    <tr>\n",
       "        <td>8</td>\n",
       "        <td>attributes</td>\n",
       "        <td>TEXT</td>\n",
       "        <td>0</td>\n",
       "        <td>None</td>\n",
       "        <td>0</td>\n",
       "    </tr>\n",
       "    <tr>\n",
       "        <td>9</td>\n",
       "        <td>description</td>\n",
       "        <td>TEXT</td>\n",
       "        <td>0</td>\n",
       "        <td>None</td>\n",
       "        <td>0</td>\n",
       "    </tr>\n",
       "</table>"
      ],
      "text/plain": [
       "[(0, 'program_code', 'TEXT', 0, None, 0),\n",
       " (1, 'program_name', 'TEXT', 0, None, 0),\n",
       " (2, 'catalog_id', 'TEXT', 0, None, 0),\n",
       " (3, 'course_title', 'TEXT', 0, None, 0),\n",
       " (4, 'credits', 'TEXT', 0, None, 0),\n",
       " (5, 'prereqs', 'TEXT', 0, None, 0),\n",
       " (6, 'coreqs', 'TEXT', 0, None, 0),\n",
       " (7, 'fees', 'TEXT', 0, None, 0),\n",
       " (8, 'attributes', 'TEXT', 0, None, 0),\n",
       " (9, 'description', 'TEXT', 0, None, 0)]"
      ]
     },
     "execution_count": 66,
     "metadata": {},
     "output_type": "execute_result"
    }
   ],
   "source": [
    "# Making sure that the tables with the imported data are there\n",
    "%%sql\n",
    "\n",
    "PRAGMA table_info(DATASET1);"
   ]
  },
  {
   "cell_type": "code",
   "execution_count": 90,
   "metadata": {},
   "outputs": [
    {
     "name": "stdout",
     "output_type": "stream",
     "text": [
      " * sqlite:///CourseData.db\n",
      "Done.\n",
      "Done.\n",
      "Done.\n",
      "Done.\n",
      "Done.\n",
      "Done.\n",
      "Done.\n"
     ]
    },
    {
     "data": {
      "text/plain": [
       "[]"
      ]
     },
     "execution_count": 90,
     "metadata": {},
     "output_type": "execute_result"
    }
   ],
   "source": [
    "# Dropping all tables if they exist\n",
    "%%sql\n",
    "\n",
    "DROP TABLE IF EXISTS INSTRUCTOR;\n",
    "DROP TABLE IF EXISTS COURSE_MEETINGS;\n",
    "DROP TABLE IF EXISTS COURSE_OFFERINGS;\n",
    "DROP TABLE IF EXISTS COURSE_CATALOG;\n",
    "DROP TABLE IF EXISTS TIMECODE;\n",
    "DROP TABLE IF EXISTS LOCATION;\n",
    "DROP TABLE IF EXISTS PROGRAM;"
   ]
  },
  {
   "cell_type": "code",
   "execution_count": 91,
   "metadata": {},
   "outputs": [
    {
     "name": "stdout",
     "output_type": "stream",
     "text": [
      " * sqlite:///CourseData.db\n",
      "Done.\n"
     ]
    },
    {
     "data": {
      "text/plain": [
       "[]"
      ]
     },
     "execution_count": 91,
     "metadata": {},
     "output_type": "execute_result"
    }
   ],
   "source": [
    "# Create the 'Instructor' table\n",
    "%%sql \n",
    "\n",
    "CREATE TABLE INSTRUCTOR(\n",
    "    IID INTEGER PRIMARY KEY,\n",
    "    NAME TEXT NOT NULL\n",
    ");"
   ]
  },
  {
   "cell_type": "code",
   "execution_count": 92,
   "metadata": {},
   "outputs": [
    {
     "name": "stdout",
     "output_type": "stream",
     "text": [
      " * sqlite:///CourseData.db\n",
      "Done.\n"
     ]
    },
    {
     "data": {
      "text/plain": [
       "[]"
      ]
     },
     "execution_count": 92,
     "metadata": {},
     "output_type": "execute_result"
    }
   ],
   "source": [
    "# Create the 'Timecode' table\n",
    "%%sql\n",
    "\n",
    "CREATE TABLE TIMECODE(\n",
    "    TCID INTEGER PRIMARY KEY,\n",
    "    Timecode TEXT NOT NULL\n",
    ");"
   ]
  },
  {
   "cell_type": "code",
   "execution_count": 93,
   "metadata": {},
   "outputs": [
    {
     "name": "stdout",
     "output_type": "stream",
     "text": [
      " * sqlite:///CourseData.db\n",
      "Done.\n"
     ]
    },
    {
     "data": {
      "text/plain": [
       "[]"
      ]
     },
     "execution_count": 93,
     "metadata": {},
     "output_type": "execute_result"
    }
   ],
   "source": [
    "# Create the 'Location' table\n",
    "%%sql\n",
    "\n",
    "CREATE TABLE LOCATION(\n",
    "    LID INTEGER PRIMARY KEY,\n",
    "    Location TEXT NOT NULL\n",
    ");"
   ]
  },
  {
   "cell_type": "code",
   "execution_count": 94,
   "metadata": {},
   "outputs": [
    {
     "name": "stdout",
     "output_type": "stream",
     "text": [
      " * sqlite:///CourseData.db\n",
      "Done.\n"
     ]
    },
    {
     "data": {
      "text/plain": [
       "[]"
      ]
     },
     "execution_count": 94,
     "metadata": {},
     "output_type": "execute_result"
    }
   ],
   "source": [
    "# Create the Program table\n",
    "%%sql\n",
    "\n",
    "CREATE TABLE PROGRAM(\n",
    "    PID INTEGER PRIMARY KEY,\n",
    "    ProgramName TEXT NOT NULL\n",
    ");\n",
    "    "
   ]
  },
  {
   "cell_type": "code",
   "execution_count": 95,
   "metadata": {},
   "outputs": [
    {
     "name": "stdout",
     "output_type": "stream",
     "text": [
      " * sqlite:///CourseData.db\n",
      "Done.\n"
     ]
    },
    {
     "data": {
      "text/plain": [
       "[]"
      ]
     },
     "execution_count": 95,
     "metadata": {},
     "output_type": "execute_result"
    }
   ],
   "source": [
    "# Create the 'Coure_Catalog' table\n",
    "%%sql \n",
    "\n",
    "CREATE TABLE COURSE_CATALOG(\n",
    "    CatalogID INTERGER PRIMARY KEY, \n",
    "    PID INT NOT NULL,\n",
    "    Section TEXT NOT NULL,\n",
    "    Credits VARCHAR NOT NULL,\n",
    "    Term TEXT NOT NULL,\n",
    "    Title TEXT NOT NULL,\n",
    "    PreReqs TEXT,\n",
    "    Attributes TEXT,\n",
    "    Description TEXT,\n",
    "    FOREIGN KEY (PID) REFERENCES PROGRAM(PID)\n",
    "); "
   ]
  },
  {
   "cell_type": "code",
   "execution_count": 96,
   "metadata": {},
   "outputs": [
    {
     "name": "stdout",
     "output_type": "stream",
     "text": [
      " * sqlite:///CourseData.db\n",
      "Done.\n"
     ]
    },
    {
     "data": {
      "text/plain": [
       "[]"
      ]
     },
     "execution_count": 96,
     "metadata": {},
     "output_type": "execute_result"
    }
   ],
   "source": [
    "# Create the 'Course_Offerings' table\n",
    "%%sql \n",
    "\n",
    "CREATE TABLE COURSE_OFFERINGS(\n",
    "    COID INTEGER PRIMARY KEY,\n",
    "    CRN INTERGER NOT NULL,\n",
    "    Term TEXT NOT NULL,\n",
    "    CatalogID TEXT NOT NULL,\n",
    "    Section TEXT NOT NULL,\n",
    "    Credits VARCHAR NOT NULL,\n",
    "    Title TEXT NOT NULL, \n",
    "    Meetings TEXT NOT NULL,\n",
    "    IID INTERGER NOT NULL,\n",
    "    Cap INTERGER NOT NULL,\n",
    "    Act INTERGER NOT NULL,\n",
    "    Rem INTERGER NOT NULL,\n",
    "    FOREIGN KEY (IID) REFERENCES INSTRUCTOR (IID),\n",
    "    FOREIGN KEY (CatalogID) REFERENCES COURSE_CATALOG(CatalogID)\n",
    ");\n",
    "    "
   ]
  },
  {
   "cell_type": "code",
   "execution_count": 97,
   "metadata": {},
   "outputs": [
    {
     "name": "stdout",
     "output_type": "stream",
     "text": [
      " * sqlite:///CourseData.db\n",
      "Done.\n"
     ]
    },
    {
     "data": {
      "text/plain": [
       "[]"
      ]
     },
     "execution_count": 97,
     "metadata": {},
     "output_type": "execute_result"
    }
   ],
   "source": [
    "# Create the 'Course_Meetings' table\n",
    "%%sql\n",
    "\n",
    "CREATE TABLE COURSE_MEETINGS(\n",
    "    CMID INTEGER PRIMARY KEY,\n",
    "    LID INTEGER NOT NULL,\n",
    "    TCID INTEGER NOT NULL,\n",
    "    Term TEXT NOT NULL,\n",
    "    CRN INTERGER NOT NULL,\n",
    "    Day TEXT NOT NULL,\n",
    "    Start TEXT NOT NULL,\n",
    "    End TEXT NOT NULL,\n",
    "    FOREIGN KEY (LID) REFERENCES LOCATION(LID)\n",
    "    FOREIGN KEY (TCID) REFERENCES TIMECODE(TCID)\n",
    ");"
   ]
  }
 ],
 "metadata": {
  "kernelspec": {
   "display_name": "Python 3",
   "language": "python",
   "name": "python3"
  },
  "language_info": {
   "codemirror_mode": {
    "name": "ipython",
    "version": 3
   },
   "file_extension": ".py",
   "mimetype": "text/x-python",
   "name": "python",
   "nbconvert_exporter": "python",
   "pygments_lexer": "ipython3",
   "version": "3.6.5"
  }
 },
 "nbformat": 4,
 "nbformat_minor": 2
}

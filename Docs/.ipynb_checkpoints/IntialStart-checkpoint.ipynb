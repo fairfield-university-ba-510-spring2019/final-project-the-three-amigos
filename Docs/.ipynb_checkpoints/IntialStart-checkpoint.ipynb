{
 "cells": [
  {
   "cell_type": "code",
   "execution_count": 2,
   "metadata": {},
   "outputs": [],
   "source": [
    "%load_ext sql"
   ]
  },
  {
   "cell_type": "code",
   "execution_count": 17,
   "metadata": {},
   "outputs": [
    {
     "data": {
      "text/plain": [
       "'Connected: @CourseData.db'"
      ]
     },
     "execution_count": 17,
     "metadata": {},
     "output_type": "execute_result"
    }
   ],
   "source": [
    "%%sql\n",
    "\n",
    "sqlite:///CourseData.db"
   ]
  },
  {
   "cell_type": "code",
   "execution_count": 52,
   "metadata": {},
   "outputs": [
    {
     "name": "stdout",
     "output_type": "stream",
     "text": [
      " * sqlite:///CourseData.db\n",
      "Done.\n",
      "Done.\n",
      "Done.\n",
      "Done.\n",
      "Done.\n",
      "Done.\n",
      "Done.\n"
     ]
    },
    {
     "data": {
      "text/plain": [
       "[]"
      ]
     },
     "execution_count": 52,
     "metadata": {},
     "output_type": "execute_result"
    }
   ],
   "source": [
    "%%sql\n",
    "\n",
    "DROP TABLE IF EXISTS INSTRUCTOR;\n",
    "DROP TABLE IF EXISTS PROGRAM_CODE;\n",
    "DROP TABLE IF EXISTS COURSE_MEETINGS;\n",
    "DROP TABLE IF EXISTS COURSE_OFFERINGS;\n",
    "DROP TABLE IF EXISTS COURSE_CATALOG;\n",
    "DROP TABLE IF EXISTS TIMECODES;\n",
    "DROP TABLE IF EXISTS LOCATION;"
   ]
  },
  {
   "cell_type": "code",
   "execution_count": 53,
   "metadata": {},
   "outputs": [
    {
     "name": "stdout",
     "output_type": "stream",
     "text": [
      " * sqlite:///CourseData.db\n",
      "Done.\n"
     ]
    },
    {
     "data": {
      "text/plain": [
       "[]"
      ]
     },
     "execution_count": 53,
     "metadata": {},
     "output_type": "execute_result"
    }
   ],
   "source": [
    "%%sql \n",
    "\n",
    "CREATE TABLE INSTRUCTOR(\n",
    "    IID INTEGER PRIMARY KEY,\n",
    "    Primary_Instructor TEXT NOT NULL\n",
    ");"
   ]
  },
  {
   "cell_type": "code",
   "execution_count": 54,
   "metadata": {},
   "outputs": [
    {
     "name": "stdout",
     "output_type": "stream",
     "text": [
      " * sqlite:///CourseData.db\n",
      "Done.\n"
     ]
    },
    {
     "data": {
      "text/plain": [
       "[]"
      ]
     },
     "execution_count": 54,
     "metadata": {},
     "output_type": "execute_result"
    }
   ],
   "source": [
    "%%sql\n",
    "\n",
    "CREATE TABLE TIMECODES(\n",
    "    TCID INTEGER PRIMARY KEY,\n",
    "    TIMECODES TEXT NOT NULL\n",
    ");"
   ]
  },
  {
   "cell_type": "code",
   "execution_count": 55,
   "metadata": {},
   "outputs": [
    {
     "name": "stdout",
     "output_type": "stream",
     "text": [
      " * sqlite:///CourseData.db\n",
      "Done.\n"
     ]
    },
    {
     "data": {
      "text/plain": [
       "[]"
      ]
     },
     "execution_count": 55,
     "metadata": {},
     "output_type": "execute_result"
    }
   ],
   "source": [
    "%%sql\n",
    "\n",
    "CREATE TABLE LOCATION(\n",
    "    LID INTEGER PRIMARY KEY,\n",
    "    Location TEXT NOT NULL\n",
    ");"
   ]
  },
  {
   "cell_type": "code",
   "execution_count": 56,
   "metadata": {},
   "outputs": [
    {
     "name": "stdout",
     "output_type": "stream",
     "text": [
      " * sqlite:///CourseData.db\n",
      "Done.\n"
     ]
    },
    {
     "data": {
      "text/plain": [
       "[]"
      ]
     },
     "execution_count": 56,
     "metadata": {},
     "output_type": "execute_result"
    }
   ],
   "source": [
    "%%sql\n",
    "\n",
    "CREATE TABLE PROGRAM_CODE(\n",
    "    ProgramCode TEXT NOT NULL,\n",
    "    ProgramName TEXT NOT NULL,\n",
    "    PRIMARY KEY (ProgramCode)\n",
    ");\n",
    "    "
   ]
  },
  {
   "cell_type": "code",
   "execution_count": 57,
   "metadata": {},
   "outputs": [
    {
     "name": "stdout",
     "output_type": "stream",
     "text": [
      " * sqlite:///CourseData.db\n",
      "(sqlite3.OperationalError) unknown column \"COID\" in foreign key definition [SQL: 'CREATE TABLE COURSE_MEETINGS(\\n    CMID INTEGER PRIMARY KEY,\\n    Term TEXT NOT NULL,\\n    CRN INTERGER NOT NULL,\\n    Location TEXT NOT NULL,\\n    Start TEXT NOT NULL,\\n    End TEXT NOT NULL,\\n    FOREIGN KEY (COID) REFERENCES COURSE_OFFERINGS(COID)\\n);'] (Background on this error at: http://sqlalche.me/e/e3q8)\n"
     ]
    }
   ],
   "source": [
    "%%sql\n",
    "\n",
    "CREATE TABLE COURSE_MEETINGS(\n",
    "    CMID INTEGER PRIMARY KEY,\n",
    "    Term TEXT NOT NULL,\n",
    "    CRN INTERGER NOT NULL,\n",
    "    Location TEXT NOT NULL,\n",
    "    Start TEXT NOT NULL,\n",
    "    End TEXT NOT NULL,\n",
    "    FOREIGN KEY (COID) REFERENCES COURSE_OFFERINGS(COID)\n",
    ");"
   ]
  },
  {
   "cell_type": "code",
   "execution_count": 58,
   "metadata": {},
   "outputs": [
    {
     "name": "stdout",
     "output_type": "stream",
     "text": [
      " * sqlite:///CourseData.db\n",
      "Done.\n"
     ]
    },
    {
     "data": {
      "text/plain": [
       "[]"
      ]
     },
     "execution_count": 58,
     "metadata": {},
     "output_type": "execute_result"
    }
   ],
   "source": [
    "%%sql \n",
    "\n",
    "CREATE TABLE COURSE_OFFERINGS(\n",
    "    COID INTEGER PRIMARY KEY,\n",
    "    CRN INTERGER NOT NULL,\n",
    "    Term TEXT NOT NULL,\n",
    "    CatalogID TEXT NOT NULL,\n",
    "    Section TEXT NOT NULL,\n",
    "    Credits VARCHAR NOT NULL,\n",
    "    Title TEXT NOT NULL, \n",
    "    Meetings TEXT NOT NULL,\n",
    "    IID INTERGER NOT NULL,\n",
    "    Cap INTERGER NOT NULL,\n",
    "    Act INTERGER NOT NULL,\n",
    "    Rem INTERGER NOT NULL,\n",
    "    FOREIGN KEY (IID) REFERENCES INSTRUCTOR (IID),\n",
    "    FOREIGN KEY (CatalogID) REFERENCES COURSE_CATALOG(CatalogID)\n",
    ");\n",
    "    "
   ]
  },
  {
   "cell_type": "code",
   "execution_count": 59,
   "metadata": {},
   "outputs": [
    {
     "name": "stdout",
     "output_type": "stream",
     "text": [
      " * sqlite:///CourseData.db\n",
      "Done.\n"
     ]
    },
    {
     "data": {
      "text/plain": [
       "[]"
      ]
     },
     "execution_count": 59,
     "metadata": {},
     "output_type": "execute_result"
    }
   ],
   "source": [
    "%%sql \n",
    "\n",
    "CREATE TABLE COURSE_CATALOG(\n",
    "    CatalogID INTERGER PRIMARY KEY, \n",
    "    ProgramCode TEXT NOT NULL,\n",
    "    CourseTitle TEXT NOT NULL,\n",
    "    Credits VARCHAR NOT NULL,\n",
    "    PreReqs TEXT ,\n",
    "    Attributes TEXT ,\n",
    "    DESCRIPTION TEXT ,\n",
    "    FOREIGN KEY (ProgramCode) REFERENCES PROGRAM_CODE(ProgramCode)\n",
    "); "
   ]
  }
 ],
 "metadata": {
  "kernelspec": {
   "display_name": "Python 3",
   "language": "python",
   "name": "python3"
  },
  "language_info": {
   "codemirror_mode": {
    "name": "ipython",
    "version": 3
   },
   "file_extension": ".py",
   "mimetype": "text/x-python",
   "name": "python",
   "nbconvert_exporter": "python",
   "pygments_lexer": "ipython3",
   "version": "3.6.5"
  }
 },
 "nbformat": 4,
 "nbformat_minor": 2
}

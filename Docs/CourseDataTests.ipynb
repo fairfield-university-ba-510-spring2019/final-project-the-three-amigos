{
 "cells": [
  {
   "cell_type": "code",
   "execution_count": 1,
   "metadata": {},
   "outputs": [],
   "source": [
    "%load_ext sql"
   ]
  },
  {
   "cell_type": "markdown",
   "metadata": {},
   "source": [
    "#### Connecting to the Database"
   ]
  },
  {
   "cell_type": "code",
   "execution_count": 2,
   "metadata": {},
   "outputs": [
    {
     "data": {
      "text/plain": [
       "'Connected: @CourseData.db'"
      ]
     },
     "execution_count": 2,
     "metadata": {},
     "output_type": "execute_result"
    }
   ],
   "source": [
    "%%sql\n",
    "\n",
    "sqlite:///CourseData.db"
   ]
  },
  {
   "cell_type": "markdown",
   "metadata": {},
   "source": [
    "**We chose a random Instructor ID to test our database with. Anita G. Fernandez was the lucky contestant, and we will be showing the various things that she does as an instructor.**"
   ]
  },
  {
   "cell_type": "code",
   "execution_count": 3,
   "metadata": {},
   "outputs": [
    {
     "name": "stdout",
     "output_type": "stream",
     "text": [
      " * sqlite:///CourseData.db\n",
      "Done.\n"
     ]
    },
    {
     "data": {
      "text/html": [
       "<table>\n",
       "    <tr>\n",
       "        <th>IID</th>\n",
       "        <th>Name</th>\n",
       "    </tr>\n",
       "    <tr>\n",
       "        <td>55</td>\n",
       "        <td>Anita G.  Fernandez</td>\n",
       "    </tr>\n",
       "</table>"
      ],
      "text/plain": [
       "[(55, 'Anita G.  Fernandez')]"
      ]
     },
     "execution_count": 3,
     "metadata": {},
     "output_type": "execute_result"
    }
   ],
   "source": [
    "%%sql\n",
    "\n",
    "SELECT * FROM INSTRUCTOR WHERE IID = 55;"
   ]
  },
  {
   "cell_type": "markdown",
   "metadata": {},
   "source": [
    "**You may be asking, how many courses did Anita teach during these different semesters? Well, here are the results.**"
   ]
  },
  {
   "cell_type": "code",
   "execution_count": 4,
   "metadata": {},
   "outputs": [
    {
     "name": "stdout",
     "output_type": "stream",
     "text": [
      " * sqlite:///CourseData.db\n",
      "Done.\n"
     ]
    },
    {
     "data": {
      "text/html": [
       "<table>\n",
       "    <tr>\n",
       "        <th>Term</th>\n",
       "        <th>COUNT(*)</th>\n",
       "    </tr>\n",
       "    <tr>\n",
       "        <td>Fall2014</td>\n",
       "        <td>11</td>\n",
       "    </tr>\n",
       "    <tr>\n",
       "        <td>Fall2015</td>\n",
       "        <td>5</td>\n",
       "    </tr>\n",
       "    <tr>\n",
       "        <td>Fall2017</td>\n",
       "        <td>1</td>\n",
       "    </tr>\n",
       "    <tr>\n",
       "        <td>Fall2018</td>\n",
       "        <td>1</td>\n",
       "    </tr>\n",
       "    <tr>\n",
       "        <td>Spring2015</td>\n",
       "        <td>11</td>\n",
       "    </tr>\n",
       "    <tr>\n",
       "        <td>Spring2016</td>\n",
       "        <td>3</td>\n",
       "    </tr>\n",
       "    <tr>\n",
       "        <td>Spring2017</td>\n",
       "        <td>6</td>\n",
       "    </tr>\n",
       "    <tr>\n",
       "        <td>Spring2018</td>\n",
       "        <td>3</td>\n",
       "    </tr>\n",
       "    <tr>\n",
       "        <td>Spring2019</td>\n",
       "        <td>3</td>\n",
       "    </tr>\n",
       "</table>"
      ],
      "text/plain": [
       "[('Fall2014', 11),\n",
       " ('Fall2015', 5),\n",
       " ('Fall2017', 1),\n",
       " ('Fall2018', 1),\n",
       " ('Spring2015', 11),\n",
       " ('Spring2016', 3),\n",
       " ('Spring2017', 6),\n",
       " ('Spring2018', 3),\n",
       " ('Spring2019', 3)]"
      ]
     },
     "execution_count": 4,
     "metadata": {},
     "output_type": "execute_result"
    }
   ],
   "source": [
    "%%sql\n",
    "\n",
    "SELECT DISTINCT Term, COUNT(*) FROM COURSE_OFFERINGS WHERE IID = 55 GROUP BY Term;"
   ]
  },
  {
   "cell_type": "markdown",
   "metadata": {},
   "source": [
    "**Now we want to see if our database will spit out the correct classes that Anita teaches. We will only show 12 to save some time.**"
   ]
  },
  {
   "cell_type": "code",
   "execution_count": 5,
   "metadata": {},
   "outputs": [
    {
     "name": "stdout",
     "output_type": "stream",
     "text": [
      " * sqlite:///CourseData.db\n",
      "Done.\n"
     ]
    },
    {
     "data": {
      "text/html": [
       "<table>\n",
       "    <tr>\n",
       "        <th>COID</th>\n",
       "        <th>CRN</th>\n",
       "        <th>CatalogID</th>\n",
       "        <th>Title</th>\n",
       "        <th>Term</th>\n",
       "    </tr>\n",
       "    <tr>\n",
       "        <td>123</td>\n",
       "        <td>73100</td>\n",
       "        <td>BI 0170</td>\n",
       "        <td>General Biology I (Majors)</td>\n",
       "        <td>Fall2014</td>\n",
       "    </tr>\n",
       "    <tr>\n",
       "        <td>124</td>\n",
       "        <td>73101</td>\n",
       "        <td>BI 0170</td>\n",
       "        <td>General Biology I (Majors)</td>\n",
       "        <td>Fall2014</td>\n",
       "    </tr>\n",
       "    <tr>\n",
       "        <td>125</td>\n",
       "        <td>71122</td>\n",
       "        <td>BI 0170</td>\n",
       "        <td>General Biology (Majors)</td>\n",
       "        <td>Fall2014</td>\n",
       "    </tr>\n",
       "    <tr>\n",
       "        <td>126</td>\n",
       "        <td>70339</td>\n",
       "        <td>BI 0170</td>\n",
       "        <td>General Biology I (Majors)</td>\n",
       "        <td>Fall2014</td>\n",
       "    </tr>\n",
       "    <tr>\n",
       "        <td>154</td>\n",
       "        <td>71640</td>\n",
       "        <td>BI 0201</td>\n",
       "        <td>Biology Undergraduate Teaching Practicum</td>\n",
       "        <td>Fall2014</td>\n",
       "    </tr>\n",
       "    <tr>\n",
       "        <td>155</td>\n",
       "        <td>72006</td>\n",
       "        <td>BI 0202</td>\n",
       "        <td>Biology Teaching Practicum</td>\n",
       "        <td>Fall2014</td>\n",
       "    </tr>\n",
       "    <tr>\n",
       "        <td>156</td>\n",
       "        <td>72007</td>\n",
       "        <td>BI 0203</td>\n",
       "        <td>Biology Teaching Practicum</td>\n",
       "        <td>Fall2014</td>\n",
       "    </tr>\n",
       "    <tr>\n",
       "        <td>157</td>\n",
       "        <td>72895</td>\n",
       "        <td>BI 0204</td>\n",
       "        <td>Biology Teaching Practicum</td>\n",
       "        <td>Fall2014</td>\n",
       "    </tr>\n",
       "    <tr>\n",
       "        <td>158</td>\n",
       "        <td>72896</td>\n",
       "        <td>BI 0205</td>\n",
       "        <td>Biology Teaching Practicum</td>\n",
       "        <td>Fall2014</td>\n",
       "    </tr>\n",
       "    <tr>\n",
       "        <td>177</td>\n",
       "        <td>70007</td>\n",
       "        <td>BI 0397</td>\n",
       "        <td>Internship-201409</td>\n",
       "        <td>Fall2014</td>\n",
       "    </tr>\n",
       "    <tr>\n",
       "        <td>178</td>\n",
       "        <td>72697</td>\n",
       "        <td>BI 0397</td>\n",
       "        <td>Internships 201409</td>\n",
       "        <td>Fall2014</td>\n",
       "    </tr>\n",
       "    <tr>\n",
       "        <td>1646</td>\n",
       "        <td>76424</td>\n",
       "        <td>BI 0170</td>\n",
       "        <td>General Biology I</td>\n",
       "        <td>Fall2015</td>\n",
       "    </tr>\n",
       "</table>"
      ],
      "text/plain": [
       "[(123, 73100, 'BI 0170', 'General Biology I (Majors)', 'Fall2014'),\n",
       " (124, 73101, 'BI 0170', 'General Biology I (Majors)', 'Fall2014'),\n",
       " (125, 71122, 'BI 0170', 'General Biology (Majors)', 'Fall2014'),\n",
       " (126, 70339, 'BI 0170', 'General Biology I (Majors)', 'Fall2014'),\n",
       " (154, 71640, 'BI 0201', 'Biology Undergraduate Teaching Practicum', 'Fall2014'),\n",
       " (155, 72006, 'BI 0202', 'Biology Teaching Practicum', 'Fall2014'),\n",
       " (156, 72007, 'BI 0203', 'Biology Teaching Practicum', 'Fall2014'),\n",
       " (157, 72895, 'BI 0204', 'Biology Teaching Practicum', 'Fall2014'),\n",
       " (158, 72896, 'BI 0205', 'Biology Teaching Practicum', 'Fall2014'),\n",
       " (177, 70007, 'BI 0397', 'Internship-201409', 'Fall2014'),\n",
       " (178, 72697, 'BI 0397', 'Internships 201409', 'Fall2014'),\n",
       " (1646, 76424, 'BI 0170', 'General Biology I', 'Fall2015')]"
      ]
     },
     "execution_count": 5,
     "metadata": {},
     "output_type": "execute_result"
    }
   ],
   "source": [
    "%%sql\n",
    "\n",
    "SELECT COID, CRN, CatalogID, Title, Term\n",
    "FROM COURSE_OFFERINGS\n",
    "WHERE IID = 55\n",
    "LIMIT 12;"
   ]
  },
  {
   "cell_type": "markdown",
   "metadata": {},
   "source": [
    "**Anita taugt 38 distinct classes during her time from Fall 2014 to Spring 2019.**"
   ]
  },
  {
   "cell_type": "code",
   "execution_count": 10,
   "metadata": {},
   "outputs": [
    {
     "name": "stdout",
     "output_type": "stream",
     "text": [
      " * sqlite:///CourseData.db\n",
      "Done.\n"
     ]
    },
    {
     "data": {
      "text/html": [
       "<table>\n",
       "    <tr>\n",
       "        <th>Classes</th>\n",
       "    </tr>\n",
       "    <tr>\n",
       "        <td>38</td>\n",
       "    </tr>\n",
       "</table>"
      ],
      "text/plain": [
       "[(38,)]"
      ]
     },
     "execution_count": 10,
     "metadata": {},
     "output_type": "execute_result"
    }
   ],
   "source": [
    "%%sql\n",
    "\n",
    "SELECT COUNT (DISTINCT CRN) AS Classes FROM COURSE_OFFERINGS JOIN COURSE_MEETINGS USING (CRN) WHERE IID = 55;"
   ]
  },
  {
   "cell_type": "markdown",
   "metadata": {},
   "source": [
    "**Where does Anita teach most of her classes? Since she is a biology teacher it seems, she is mainly in Bannow, but some classes were taught in DSB surprisingly enough.**"
   ]
  },
  {
   "cell_type": "code",
   "execution_count": 7,
   "metadata": {},
   "outputs": [
    {
     "name": "stdout",
     "output_type": "stream",
     "text": [
      " * sqlite:///CourseData.db\n",
      "Done.\n"
     ]
    },
    {
     "data": {
      "text/html": [
       "<table>\n",
       "    <tr>\n",
       "        <th>Location</th>\n",
       "        <th>COUNT(*)</th>\n",
       "    </tr>\n",
       "    <tr>\n",
       "        <td>BI 0170</td>\n",
       "        <td>4</td>\n",
       "    </tr>\n",
       "    <tr>\n",
       "        <td>BI 0201</td>\n",
       "        <td>1</td>\n",
       "    </tr>\n",
       "    <tr>\n",
       "        <td>BI 0202</td>\n",
       "        <td>1</td>\n",
       "    </tr>\n",
       "    <tr>\n",
       "        <td>BI 0203</td>\n",
       "        <td>1</td>\n",
       "    </tr>\n",
       "    <tr>\n",
       "        <td>BI 0204</td>\n",
       "        <td>1</td>\n",
       "    </tr>\n",
       "    <tr>\n",
       "        <td>BI 0205</td>\n",
       "        <td>1</td>\n",
       "    </tr>\n",
       "    <tr>\n",
       "        <td>BI 0397</td>\n",
       "        <td>2</td>\n",
       "    </tr>\n",
       "    <tr>\n",
       "        <td>BNW 127</td>\n",
       "        <td>28</td>\n",
       "    </tr>\n",
       "    <tr>\n",
       "        <td>BNW 131</td>\n",
       "        <td>27</td>\n",
       "    </tr>\n",
       "    <tr>\n",
       "        <td>BNW 238A</td>\n",
       "        <td>28</td>\n",
       "    </tr>\n",
       "    <tr>\n",
       "        <td>BNW 254</td>\n",
       "        <td>52</td>\n",
       "    </tr>\n",
       "    <tr>\n",
       "        <td>BNW 256</td>\n",
       "        <td>131</td>\n",
       "    </tr>\n",
       "    <tr>\n",
       "        <td>BNW 261</td>\n",
       "        <td>13</td>\n",
       "    </tr>\n",
       "    <tr>\n",
       "        <td>BNW 267</td>\n",
       "        <td>95</td>\n",
       "    </tr>\n",
       "    <tr>\n",
       "        <td>BNW 333</td>\n",
       "        <td>27</td>\n",
       "    </tr>\n",
       "    <tr>\n",
       "        <td>BNW 363</td>\n",
       "        <td>13</td>\n",
       "    </tr>\n",
       "    <tr>\n",
       "        <td>BNW 469</td>\n",
       "        <td>26</td>\n",
       "    </tr>\n",
       "    <tr>\n",
       "        <td>BNW GR22</td>\n",
       "        <td>28</td>\n",
       "    </tr>\n",
       "    <tr>\n",
       "        <td>CH 0341L</td>\n",
       "        <td>1</td>\n",
       "    </tr>\n",
       "    <tr>\n",
       "        <td>CNS 106</td>\n",
       "        <td>25</td>\n",
       "    </tr>\n",
       "    <tr>\n",
       "        <td>CNS 108</td>\n",
       "        <td>15</td>\n",
       "    </tr>\n",
       "    <tr>\n",
       "        <td>CNS 15</td>\n",
       "        <td>25</td>\n",
       "    </tr>\n",
       "    <tr>\n",
       "        <td>CNS 202</td>\n",
       "        <td>42</td>\n",
       "    </tr>\n",
       "    <tr>\n",
       "        <td>CNS 206</td>\n",
       "        <td>27</td>\n",
       "    </tr>\n",
       "    <tr>\n",
       "        <td>CNS 9</td>\n",
       "        <td>26</td>\n",
       "    </tr>\n",
       "    <tr>\n",
       "        <td>DLH 107</td>\n",
       "        <td>10</td>\n",
       "    </tr>\n",
       "    <tr>\n",
       "        <td>DSB 109</td>\n",
       "        <td>28</td>\n",
       "    </tr>\n",
       "    <tr>\n",
       "        <td>DSB 114</td>\n",
       "        <td>14</td>\n",
       "    </tr>\n",
       "    <tr>\n",
       "        <td>DW G108</td>\n",
       "        <td>14</td>\n",
       "    </tr>\n",
       "    <tr>\n",
       "        <td>GNZ AUDI</td>\n",
       "        <td>13</td>\n",
       "    </tr>\n",
       "    <tr>\n",
       "        <td>MCA 102</td>\n",
       "        <td>27</td>\n",
       "    </tr>\n",
       "    <tr>\n",
       "        <td>MCA 204</td>\n",
       "        <td>26</td>\n",
       "    </tr>\n",
       "    <tr>\n",
       "        <td>SON 124</td>\n",
       "        <td>28</td>\n",
       "    </tr>\n",
       "    <tr>\n",
       "        <td>SON 203</td>\n",
       "        <td>208</td>\n",
       "    </tr>\n",
       "    <tr>\n",
       "        <td>SON 214</td>\n",
       "        <td>56</td>\n",
       "    </tr>\n",
       "    <tr>\n",
       "        <td>VA </td>\n",
       "        <td>6</td>\n",
       "    </tr>\n",
       "    <tr>\n",
       "        <td>YAL </td>\n",
       "        <td>6</td>\n",
       "    </tr>\n",
       "</table>"
      ],
      "text/plain": [
       "[('BI 0170', 4),\n",
       " ('BI 0201', 1),\n",
       " ('BI 0202', 1),\n",
       " ('BI 0203', 1),\n",
       " ('BI 0204', 1),\n",
       " ('BI 0205', 1),\n",
       " ('BI 0397', 2),\n",
       " ('BNW 127', 28),\n",
       " ('BNW 131', 27),\n",
       " ('BNW 238A', 28),\n",
       " ('BNW 254', 52),\n",
       " ('BNW 256', 131),\n",
       " ('BNW 261', 13),\n",
       " ('BNW 267', 95),\n",
       " ('BNW 333', 27),\n",
       " ('BNW 363', 13),\n",
       " ('BNW 469', 26),\n",
       " ('BNW GR22', 28),\n",
       " ('CH 0341L', 1),\n",
       " ('CNS 106', 25),\n",
       " ('CNS 108', 15),\n",
       " ('CNS 15', 25),\n",
       " ('CNS 202', 42),\n",
       " ('CNS 206', 27),\n",
       " ('CNS 9', 26),\n",
       " ('DLH 107', 10),\n",
       " ('DSB 109', 28),\n",
       " ('DSB 114', 14),\n",
       " ('DW G108', 14),\n",
       " ('GNZ AUDI', 13),\n",
       " ('MCA 102', 27),\n",
       " ('MCA 204', 26),\n",
       " ('SON 124', 28),\n",
       " ('SON 203', 208),\n",
       " ('SON 214', 56),\n",
       " ('VA ', 6),\n",
       " ('YAL ', 6)]"
      ]
     },
     "execution_count": 7,
     "metadata": {},
     "output_type": "execute_result"
    }
   ],
   "source": [
    "%%sql\n",
    "\n",
    "SELECT DISTINCT Location, COUNT(*)\n",
    "FROM LOCATION l\n",
    "INNER JOIN COURSE_MEETINGS m ON l.LID=m.LID\n",
    "INNER JOIN COURSE_OFFERINGS z ON m.CRN=z.CRN\n",
    "WHERE IID = 55\n",
    "GROUP BY Location;"
   ]
  },
  {
   "cell_type": "markdown",
   "metadata": {},
   "source": [
    "**The conclusion that we have come to is that Anita G. Fernandez is a Biology Teacher that primary teaches classes out of the School of Nursing, as well as teach 38 different courses over the past 4.5 years at Fairfield University.**"
   ]
  }
 ],
 "metadata": {
  "kernelspec": {
   "display_name": "Python 3",
   "language": "python",
   "name": "python3"
  },
  "language_info": {
   "codemirror_mode": {
    "name": "ipython",
    "version": 3
   },
   "file_extension": ".py",
   "mimetype": "text/x-python",
   "name": "python",
   "nbconvert_exporter": "python",
   "pygments_lexer": "ipython3",
   "version": "3.6.5"
  }
 },
 "nbformat": 4,
 "nbformat_minor": 2
}

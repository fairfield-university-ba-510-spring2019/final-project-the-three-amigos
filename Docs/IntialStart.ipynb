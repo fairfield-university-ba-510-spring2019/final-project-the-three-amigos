{
 "cells": [
  {
   "cell_type": "code",
   "execution_count": null,
   "metadata": {},
   "outputs": [],
   "source": [
    "%%sql \n",
    "CREATE TABLE INSTRUCTOR(\n",
    "    IID INTERGER PRIMARY KEY,\n",
    "    Primary_Instructor TEXT NOT NULL\n",
    "    );"
   ]
  },
  {
   "cell_type": "code",
   "execution_count": null,
   "metadata": {},
   "outputs": [],
   "source": [
    "%%sql\n",
    "CREATE TABLE PROGRAM_CODE(\n",
    "    ProgramCode TEXT NOT NULL,\n",
    "    ProgramName TEXT NOT NULL,\n",
    "    PRIMARY KEY (Program Code)\n",
    "    );\n",
    "    "
   ]
  },
  {
   "cell_type": "code",
   "execution_count": 1,
   "metadata": {},
   "outputs": [
    {
     "name": "stderr",
     "output_type": "stream",
     "text": [
      "UsageError: Cell magic `%%sql` not found.\n"
     ]
    }
   ],
   "source": [
    "%%sql\n",
    "CREATE TABLE COURSE_MEETINGS(\n",
    "    Term TEXT NOT NULL,\n",
    "    CRN INTERGER NOT NULL,\n",
    "    Location TEXT NOT NULL,\n",
    "    Start TEXT NOT NULL,\n",
    "    End TEXT NOT NULL\n",
    "    );"
   ]
  },
  {
   "cell_type": "code",
   "execution_count": null,
   "metadata": {},
   "outputs": [],
   "source": [
    "%%sql \n",
    "CREATE TABLE COURSE_OFFERINGS(\n",
    "    CRN INTERGER NOT NULL,\n",
    "    Term TEXT NOT NULL,\n",
    "    CatalogID TEXT NOT NULL,\n",
    "    Section TEXT NOT NULL,\n",
    "    Credits VARCHAR() NOT NULL,\n",
    "    Title TEXT NOT NULL, \n",
    "    Meetings TEXT NOT NULL,\n",
    "    IID INTERGER NOT NULL,\n",
    "    Cap INTERGER NOT NULL,\n",
    "    Act INTERGER NOT NULL,\n",
    "    Rem INTERGER NOT NULL,\n",
    "    PRIMARY KEY (CRN),\n",
    "    FOREIGN KEY (IID) REFERENCES INSTRUCTOR (IID),\n",
    "    FOREIGN KEY (CatalogID) REFERENCES COURSE_CATALOG(CatalogID)\n",
    "    );\n",
    "    "
   ]
  },
  {
   "cell_type": "code",
   "execution_count": null,
   "metadata": {},
   "outputs": [],
   "source": [
    "%%sql \n",
    "CREATE TABLE COURSE_CATALOG(\n",
    "    CatalogID INTERGER PRIMARY KEY, \n",
    "    ProgramCode TEXT NOT NULL,\n",
    "    CourseTitle TEXT NOT NULL,\n",
    "    Credits VARCHAR() NOT NULL,\n",
    "    PreReqs TEXT ,\n",
    "    Attributes TEXT ,\n",
    "    DESCRIPTION TEXT ,\n",
    "    FOREIGN KEY (ProgramCode) REFERENCES PROGRAM_CODE(ProgramCode)\n",
    "    ); "
   ]
  },
  {
   "cell_type": "code",
   "execution_count": null,
   "metadata": {},
   "outputs": [],
   "source": []
  }
 ],
 "metadata": {
  "kernelspec": {
   "display_name": "Python 3",
   "language": "python",
   "name": "python3"
  },
  "language_info": {
   "codemirror_mode": {
    "name": "ipython",
    "version": 3
   },
   "file_extension": ".py",
   "mimetype": "text/x-python",
   "name": "python",
   "nbconvert_exporter": "python",
   "pygments_lexer": "ipython3",
   "version": "3.6.5"
  }
 },
 "nbformat": 4,
 "nbformat_minor": 2
}
